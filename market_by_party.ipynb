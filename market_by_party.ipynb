{
 "cells": [
  {
   "cell_type": "markdown",
   "metadata": {},
   "source": [
    "# Who is better for the stock market: Democrats or Republicans?\n",
    "## Comparative study\n"
   ]
  },
  {
   "cell_type": "markdown",
   "metadata": {},
   "source": [
    "One of my colleagues is CFA. He knows a lot about investing. He said that if Biden wins the elections, he will sell all his stocks. He favors republican tax over democratic: \"Trump's tax cut was very beneficial for stocks. If Biden increases taxes, we will see a market collapse\".\n",
    "As a data scientist, I believe in evidence from data and models. So I decided to figure out who are actually better for the stock market: Democrats or Republicans."
   ]
  },
  {
   "cell_type": "code",
   "execution_count": 3,
   "metadata": {},
   "outputs": [],
   "source": [
    "import datetime\n",
    "import matplotlib as mpl\n",
    "import matplotlib.pyplot as plt\n",
    "import numpy as np\n",
    "import pandas as pd\n",
    "import seaborn as sns\n",
    "import yfinance as yf\n",
    "\n",
    "%matplotlib inline"
   ]
  },
  {
   "cell_type": "markdown",
   "metadata": {},
   "source": [
    "First, I checked whether Trump was really good for the stock market. I downloaded `^GSPC` (a ticker for `S&P500 Index`) from https://finance.yahoo.com/ and calculated Sharpe Ratio (Risk adjusted return) and Sortino Ratio (Downside risk adjusted return) from the Obama and Trump presidentship.\n",
    "I used zero risk-free rate for simplicity. This assumption is actually in favor of Trump, as [`FED Fund rates` were lower for Obama terms]\n",
    "(https://tradingeconomics.com/united-states/interest-rate).  "
   ]
  },
  {
   "cell_type": "code",
   "execution_count": 219,
   "metadata": {},
   "outputs": [
    {
     "name": "stdout",
     "output_type": "stream",
     "text": [
      "[*********************100%***********************]  1 of 1 completed\n"
     ]
    }
   ],
   "source": [
    "sp = yf.download(tickers = '^GSPC', period='max', auto_adjust = True)['Close']"
   ]
  },
  {
   "cell_type": "code",
   "execution_count": 335,
   "metadata": {},
   "outputs": [
    {
     "name": "stdout",
     "output_type": "stream",
     "text": [
      "End date: 2020-10-01 00:00:00\n"
     ]
    }
   ],
   "source": [
    "#print('Start date:', sp.index[0])\n",
    "print('End date:', sp.index[-1])      "
   ]
  },
  {
   "cell_type": "code",
   "execution_count": 398,
   "metadata": {},
   "outputs": [
    {
     "name": "stdout",
     "output_type": "stream",
     "text": [
      "Sharpe Obama: 0.84\n",
      "Sharpe Trump: 0.62\n",
      "Sortino Obama: 1.1\n",
      "Sortino Trump: 0.67\n",
      "Obama to Trump Sharpe outperformance: 0.35\n",
      "Obama to Trump Sortino outperformance: 0.66\n"
     ]
    }
   ],
   "source": [
    "obama = sp['2009-01-20':'2017-01-19'].pct_change(1)\n",
    "trump = sp['2017-01-20':].pct_change(1)\n",
    "ret = sp['2009-01-20':].pct_change(1)\n",
    "# print('Daily return:')\n",
    "# print('Obama mean, std, std downside:',obama.mean(), obama.std(), obama[obama < 0].std())\n",
    "# print('Trump mean, std, std downside:',trump.mean(), trump.std(), trump[trump < 0].std())\n",
    "# print('S&P500 mean, std, std downside:',ret.mean(), ret.std(), ret[ret < 0].std())\n",
    "#print('\\n')\n",
    "print('Sharpe Obama:', np.round(obama.mean()/obama.std()*252**0.5, 2))\n",
    "print('Sharpe Trump:', np.round(trump.mean()/trump.std()*252**0.5, 2))\n",
    "#print('Sharpe S&P500:', np.round(ret.mean()/ret.std()*252**0.5, 2))\n",
    "#print('\\n')\n",
    "print('Sortino Obama:', np.round(obama.mean()/obama[obama < 0].std()*252**0.5, 2))\n",
    "print('Sortino Trump:', np.round(trump.mean()/trump[trump < 0].std()*252**0.5, 2))\n",
    "print('Obama to Trump Sharpe outperformance:', np.round(obama.mean()/obama.std() / (trump.mean()/trump.std()) - 1, 2))\n",
    "print('Obama to Trump Sortino outperformance:', np.round(obama.mean()/obama[obama < 0].std() / (trump.mean()/trump[trump < 0].std()) - 1, 2))"
   ]
  },
  {
   "cell_type": "markdown",
   "metadata": {},
   "source": [
    "**Obama was actually 35% better, than Trump, in terms of Shape ratio, and 66% better by Sortino**.   \n",
    "\n",
    "When I showed these numbers to my colleague, his counter-argument was: \"Trump is dealing with a pandemic with far worse return\".   \n",
    "    \n",
    "Well, Trump was not dealing with pandemic. He ignored it.\n",
    "\n",
    "### Dealing with pandemic, the USA vs South Korea.\n",
    "The first Covid case in the USA and South Korea was caught at the same date. Korea reacted immediately. Trump said there were no worries of a pandemic. \n",
    "Decision making in South Korea has been a collaboration between the government and the scientific community. Trump did not listen to scientists. \n",
    "The day the stock market plummeted, Trump said the virus was under control in the U.S., and the stock market was looking pretty good to him.  \n",
    "\n",
    "Korea flattened the epidemic curve quickly without closing businesses, issuing stay-at-home orders, \n",
    "or implementing many of the stricter measures adopted by other high-income countries. The US got a recession.  \n",
    "https://ourworldindata.org/covid-exemplar-south-korea\n",
    "\n",
    "Since then, Korea has lost 388 people, and the US lost 206263 (09/23/2020), that is **532 times more deaths** in the US.   \n",
    "Well, Korean population is 6.44 times less than American. So it is still **82.5 times more deaths per capita** in the US. \n",
    "Moreover, Korea has 15.2 times higher population density, than the US. it is the 2nd in the World. By population density, the US get **8084 times more deaths** than Korea.   \n",
    "The price of ignorance is high.\n",
    "#### Update\n",
    "Trump tested positive for COVID-19."
   ]
  },
  {
   "cell_type": "markdown",
   "metadata": {},
   "source": [
    "### Stock market relative performance for Obama and Trump\n",
    "Compare relative performance of `S&P500` for Obama and Trump, in terms of days of their presidentship."
   ]
  },
  {
   "cell_type": "code",
   "execution_count": 400,
   "metadata": {},
   "outputs": [],
   "source": [
    "sp_norm = pd.DataFrame({'Obama': sp['2009-01-20':'2017-01-19'].reset_index(drop=True), 'Trump':sp['2017-01-20':].reset_index(drop=True)})\n",
    "sp_norm = sp_norm / sp_norm.iloc[0,:]"
   ]
  },
  {
   "cell_type": "code",
   "execution_count": 401,
   "metadata": {},
   "outputs": [
    {
     "data": {
      "text/html": [
       "<div>\n",
       "<style scoped>\n",
       "    .dataframe tbody tr th:only-of-type {\n",
       "        vertical-align: middle;\n",
       "    }\n",
       "\n",
       "    .dataframe tbody tr th {\n",
       "        vertical-align: top;\n",
       "    }\n",
       "\n",
       "    .dataframe thead th {\n",
       "        text-align: right;\n",
       "    }\n",
       "</style>\n",
       "<table border=\"1\" class=\"dataframe\">\n",
       "  <thead>\n",
       "    <tr style=\"text-align: right;\">\n",
       "      <th></th>\n",
       "      <th>Obama</th>\n",
       "      <th>Trump</th>\n",
       "    </tr>\n",
       "  </thead>\n",
       "  <tbody>\n",
       "    <tr>\n",
       "      <th>774</th>\n",
       "      <td>1.677181</td>\n",
       "      <td>1.490836</td>\n",
       "    </tr>\n",
       "  </tbody>\n",
       "</table>\n",
       "</div>"
      ],
      "text/plain": [
       "        Obama     Trump\n",
       "774  1.677181  1.490836"
      ]
     },
     "execution_count": 401,
     "metadata": {},
     "output_type": "execute_result"
    }
   ],
   "source": [
    "sp_norm.loc[sp_norm['Trump'] == sp_norm.loc[:800, 'Trump'].max()]"
   ]
  },
  {
   "cell_type": "code",
   "execution_count": 403,
   "metadata": {},
   "outputs": [
    {
     "data": {
      "text/plain": [
       "<matplotlib.legend.Legend at 0x256d7ebb6c8>"
      ]
     },
     "execution_count": 403,
     "metadata": {},
     "output_type": "execute_result"
    },
    {
     "data": {
      "image/png": "[encoded data removed]",
      "text/plain": [
       "<Figure size 576x432 with 1 Axes>"
      ]
     },
     "metadata": {},
     "output_type": "display_data"
    }
   ],
   "source": [
    "plt.style.use('seaborn-whitegrid')\n",
    "\n",
    "fig = plt.figure(figsize=(8, 6))\n",
    "plt.xlabel('days of serving')\n",
    "plt.ylabel('Return, $1 invested')\n",
    "plt.title('S&P500: Obama vs Trump, relative grouth')\n",
    "plt.plot(sp_norm['Obama'], 'b', label='Obama')\n",
    "plt.plot(sp_norm['Trump'][:775], 'r', label='Trump before pandemic')\n",
    "plt.plot(sp_norm['Trump'][775:], 'm', label='Trump pandemic')\n",
    "plt.legend()"
   ]
  },
  {
   "cell_type": "code",
   "execution_count": 404,
   "metadata": {},
   "outputs": [
    {
     "name": "stdout",
     "output_type": "stream",
     "text": [
      "Obama's S&P500 outperformance at the Trump's market top right before the pandemic: 0.12\n"
     ]
    }
   ],
   "source": [
    "print('Obama\\'s S&P500 outperformance at the Trump\\'s market top right before the pandemic:', np.round(sp_norm.loc[774, 'Obama'] / sp_norm.loc[774, 'Trump'] - 1., 2))"
   ]
  },
  {
   "cell_type": "markdown",
   "metadata": {},
   "source": [
    "The evidence is, on 774 day of both presidentships, at the Trump's market top right before the pandemic, **Obama's market performed 12% better, in spite of Trump's tax cut**."
   ]
  },
  {
   "cell_type": "markdown",
   "metadata": {},
   "source": [
    "###  Stocks and Cash Party Timing Strategy\n",
    "Trump is an outlier. He called himself \"The best president in history\", and many others call him \"The worst president in history\". Let's see the full picture.   \n",
    "I checked how all presidents performed in the history of the S&P500 index since 1928, depending on their party.   \n",
    "\n",
    "For the portfolio of the stocks (`S&P500`) and cash, I backtested two investment strategies:\n",
    "1. Republicans portfolio: Long stocks on Republican presidents, cash on Democrat presidents.\n",
    "2. Democrats portfolio: Long stocks on Democrat presidents, cash on Republican presidents."
   ]
  },
  {
   "cell_type": "markdown",
   "metadata": {},
   "source": [
    "I loaded [US presidents with years after inauguration and parties](https://www.theguardian.com/news/datablog/2012/oct/15/us-presidents-listed)"
   ]
  },
  {
   "cell_type": "code",
   "execution_count": 405,
   "metadata": {},
   "outputs": [],
   "source": [
    "us_presidents = pd.read_csv('US presidents listed - ALL NAMES.csv')\n",
    "us_presidents.index = pd.to_datetime(us_presidents['Years (after inauguration)'], format='%Y')\n",
    "us_presidents = us_presidents.drop(columns=['Years (after inauguration)', 'President'])\n",
    "us_presidents.index.name = None"
   ]
  },
  {
   "cell_type": "code",
   "execution_count": 20,
   "metadata": {},
   "outputs": [
    {
     "data": {
      "text/html": [
       "<div>\n",
       "<style scoped>\n",
       "    .dataframe tbody tr th:only-of-type {\n",
       "        vertical-align: middle;\n",
       "    }\n",
       "\n",
       "    .dataframe tbody tr th {\n",
       "        vertical-align: top;\n",
       "    }\n",
       "\n",
       "    .dataframe thead th {\n",
       "        text-align: right;\n",
       "    }\n",
       "</style>\n",
       "<table border=\"1\" class=\"dataframe\">\n",
       "  <thead>\n",
       "    <tr style=\"text-align: right;\">\n",
       "      <th></th>\n",
       "      <th>Party</th>\n",
       "    </tr>\n",
       "  </thead>\n",
       "  <tbody>\n",
       "    <tr>\n",
       "      <th>2008-01-01</th>\n",
       "      <td>Republican</td>\n",
       "    </tr>\n",
       "    <tr>\n",
       "      <th>2009-01-01</th>\n",
       "      <td>Democrat</td>\n",
       "    </tr>\n",
       "    <tr>\n",
       "      <th>2010-01-01</th>\n",
       "      <td>Democrat</td>\n",
       "    </tr>\n",
       "    <tr>\n",
       "      <th>2011-01-01</th>\n",
       "      <td>Democrat</td>\n",
       "    </tr>\n",
       "    <tr>\n",
       "      <th>2012-01-01</th>\n",
       "      <td>Democrat</td>\n",
       "    </tr>\n",
       "    <tr>\n",
       "      <th>2013-01-01</th>\n",
       "      <td>Democrat</td>\n",
       "    </tr>\n",
       "  </tbody>\n",
       "</table>\n",
       "</div>"
      ],
      "text/plain": [
       "                 Party\n",
       "2008-01-01  Republican\n",
       "2009-01-01    Democrat\n",
       "2010-01-01    Democrat\n",
       "2011-01-01    Democrat\n",
       "2012-01-01    Democrat\n",
       "2013-01-01    Democrat"
      ]
     },
     "execution_count": 20,
     "metadata": {},
     "output_type": "execute_result"
    }
   ],
   "source": [
    "us_presidents.tail(6)"
   ]
  },
  {
   "cell_type": "code",
   "execution_count": 21,
   "metadata": {},
   "outputs": [
    {
     "data": {
      "text/html": [
       "<div>\n",
       "<style scoped>\n",
       "    .dataframe tbody tr th:only-of-type {\n",
       "        vertical-align: middle;\n",
       "    }\n",
       "\n",
       "    .dataframe tbody tr th {\n",
       "        vertical-align: top;\n",
       "    }\n",
       "\n",
       "    .dataframe thead th {\n",
       "        text-align: right;\n",
       "    }\n",
       "</style>\n",
       "<table border=\"1\" class=\"dataframe\">\n",
       "  <thead>\n",
       "    <tr style=\"text-align: right;\">\n",
       "      <th></th>\n",
       "      <th>Party</th>\n",
       "    </tr>\n",
       "  </thead>\n",
       "  <tbody>\n",
       "    <tr>\n",
       "      <th>2014-01-01</th>\n",
       "      <td>Democrat</td>\n",
       "    </tr>\n",
       "    <tr>\n",
       "      <th>2015-01-01</th>\n",
       "      <td>Democrat</td>\n",
       "    </tr>\n",
       "    <tr>\n",
       "      <th>2016-01-01</th>\n",
       "      <td>Democrat</td>\n",
       "    </tr>\n",
       "    <tr>\n",
       "      <th>2017-01-01</th>\n",
       "      <td>Republican</td>\n",
       "    </tr>\n",
       "    <tr>\n",
       "      <th>2018-01-01</th>\n",
       "      <td>Republican</td>\n",
       "    </tr>\n",
       "    <tr>\n",
       "      <th>2019-01-01</th>\n",
       "      <td>Republican</td>\n",
       "    </tr>\n",
       "    <tr>\n",
       "      <th>2020-01-01</th>\n",
       "      <td>Republican</td>\n",
       "    </tr>\n",
       "  </tbody>\n",
       "</table>\n",
       "</div>"
      ],
      "text/plain": [
       "                 Party\n",
       "2014-01-01    Democrat\n",
       "2015-01-01    Democrat\n",
       "2016-01-01    Democrat\n",
       "2017-01-01  Republican\n",
       "2018-01-01  Republican\n",
       "2019-01-01  Republican\n",
       "2020-01-01  Republican"
      ]
     },
     "execution_count": 21,
     "metadata": {},
     "output_type": "execute_result"
    }
   ],
   "source": [
    "us_presidents2 = pd.DataFrame({'Party': ['Democrat']*3 + ['Republican']*4 })#, index= pd.to_datetime('2014-01-01', '2020-01-01', format='%Y'))\n",
    "us_presidents2.index = pd.to_datetime(pd.Series(['2014-01-01', '2015-01-01', '2016-01-01', '2017-01-01', '2018-01-01', '2019-01-01', '2020-01-01']), format='%Y-%m-%d')\n",
    "parties = pd.concat([us_presidents, us_presidents2], axis=0)\n",
    "parties.tail()"
   ]
  },
  {
   "cell_type": "markdown",
   "metadata": {},
   "source": [
    "At the start of the year `t`, we calculated forward yearly return `S&P500[t+1]/S&P500[t] - 1` and either got long or flat, according to the party we bet on."
   ]
  },
  {
   "cell_type": "code",
   "execution_count": 408,
   "metadata": {},
   "outputs": [
    {
     "data": {
      "text/plain": [
       "Date\n",
       "2016-01-01    0.095350\n",
       "2017-01-01    0.194200\n",
       "2018-01-01   -0.062373\n",
       "2019-01-01    0.288781\n",
       "2020-01-01         NaN\n",
       "Freq: AS-JAN, Name: ret, dtype: float64"
      ]
     },
     "execution_count": 408,
     "metadata": {},
     "output_type": "execute_result"
    }
   ],
   "source": [
    "sp_y_ret = sp.asfreq('AS', how='start', method='ffill').pct_change(1).shift(-1).rename('ret')\n",
    "sp_y_ret.tail()"
   ]
  },
  {
   "cell_type": "markdown",
   "metadata": {},
   "source": [
    "There is no yearly return for 2020 yet, so I caculated 3-quarter return for 2020:"
   ]
  },
  {
   "cell_type": "code",
   "execution_count": 420,
   "metadata": {},
   "outputs": [],
   "source": [
    "sp_y_ret['2020-01-01'] = sp['2020-09-01']/sp['2020-01-02'] - 1"
   ]
  },
  {
   "cell_type": "code",
   "execution_count": 421,
   "metadata": {},
   "outputs": [],
   "source": [
    "party_sp = pd.concat([parties, sp_y_ret], axis=1).dropna()"
   ]
  },
  {
   "cell_type": "code",
   "execution_count": 422,
   "metadata": {},
   "outputs": [
    {
     "data": {
      "text/html": [
       "<div>\n",
       "<style scoped>\n",
       "    .dataframe tbody tr th:only-of-type {\n",
       "        vertical-align: middle;\n",
       "    }\n",
       "\n",
       "    .dataframe tbody tr th {\n",
       "        vertical-align: top;\n",
       "    }\n",
       "\n",
       "    .dataframe thead th {\n",
       "        text-align: right;\n",
       "    }\n",
       "</style>\n",
       "<table border=\"1\" class=\"dataframe\">\n",
       "  <thead>\n",
       "    <tr style=\"text-align: right;\">\n",
       "      <th></th>\n",
       "      <th>Party</th>\n",
       "      <th>ret</th>\n",
       "    </tr>\n",
       "  </thead>\n",
       "  <tbody>\n",
       "    <tr>\n",
       "      <th>1928-01-01</th>\n",
       "      <td>Republican</td>\n",
       "      <td>0.378822</td>\n",
       "    </tr>\n",
       "    <tr>\n",
       "      <th>1929-01-01</th>\n",
       "      <td>Republican</td>\n",
       "      <td>-0.119096</td>\n",
       "    </tr>\n",
       "    <tr>\n",
       "      <th>1930-01-01</th>\n",
       "      <td>Republican</td>\n",
       "      <td>-0.284849</td>\n",
       "    </tr>\n",
       "    <tr>\n",
       "      <th>1931-01-01</th>\n",
       "      <td>Republican</td>\n",
       "      <td>-0.470665</td>\n",
       "    </tr>\n",
       "    <tr>\n",
       "      <th>1932-01-01</th>\n",
       "      <td>Republican</td>\n",
       "      <td>-0.147783</td>\n",
       "    </tr>\n",
       "  </tbody>\n",
       "</table>\n",
       "</div>"
      ],
      "text/plain": [
       "                 Party       ret\n",
       "1928-01-01  Republican  0.378822\n",
       "1929-01-01  Republican -0.119096\n",
       "1930-01-01  Republican -0.284849\n",
       "1931-01-01  Republican -0.470665\n",
       "1932-01-01  Republican -0.147783"
      ]
     },
     "execution_count": 422,
     "metadata": {},
     "output_type": "execute_result"
    }
   ],
   "source": [
    "party_sp.head()"
   ]
  },
  {
   "cell_type": "code",
   "execution_count": 423,
   "metadata": {},
   "outputs": [
    {
     "data": {
      "text/html": [
       "<div>\n",
       "<style scoped>\n",
       "    .dataframe tbody tr th:only-of-type {\n",
       "        vertical-align: middle;\n",
       "    }\n",
       "\n",
       "    .dataframe tbody tr th {\n",
       "        vertical-align: top;\n",
       "    }\n",
       "\n",
       "    .dataframe thead th {\n",
       "        text-align: right;\n",
       "    }\n",
       "</style>\n",
       "<table border=\"1\" class=\"dataframe\">\n",
       "  <thead>\n",
       "    <tr style=\"text-align: right;\">\n",
       "      <th></th>\n",
       "      <th>Party</th>\n",
       "      <th>ret</th>\n",
       "    </tr>\n",
       "  </thead>\n",
       "  <tbody>\n",
       "    <tr>\n",
       "      <th>2009-01-01</th>\n",
       "      <td>Democrat</td>\n",
       "      <td>0.234542</td>\n",
       "    </tr>\n",
       "    <tr>\n",
       "      <th>2010-01-01</th>\n",
       "      <td>Democrat</td>\n",
       "      <td>0.127827</td>\n",
       "    </tr>\n",
       "    <tr>\n",
       "      <th>2011-01-01</th>\n",
       "      <td>Democrat</td>\n",
       "      <td>-0.000032</td>\n",
       "    </tr>\n",
       "    <tr>\n",
       "      <th>2012-01-01</th>\n",
       "      <td>Democrat</td>\n",
       "      <td>0.134057</td>\n",
       "    </tr>\n",
       "    <tr>\n",
       "      <th>2013-01-01</th>\n",
       "      <td>Democrat</td>\n",
       "      <td>0.296012</td>\n",
       "    </tr>\n",
       "    <tr>\n",
       "      <th>2014-01-01</th>\n",
       "      <td>Democrat</td>\n",
       "      <td>0.113906</td>\n",
       "    </tr>\n",
       "    <tr>\n",
       "      <th>2015-01-01</th>\n",
       "      <td>Democrat</td>\n",
       "      <td>-0.007266</td>\n",
       "    </tr>\n",
       "    <tr>\n",
       "      <th>2016-01-01</th>\n",
       "      <td>Democrat</td>\n",
       "      <td>0.095350</td>\n",
       "    </tr>\n",
       "    <tr>\n",
       "      <th>2017-01-01</th>\n",
       "      <td>Republican</td>\n",
       "      <td>0.194200</td>\n",
       "    </tr>\n",
       "    <tr>\n",
       "      <th>2018-01-01</th>\n",
       "      <td>Republican</td>\n",
       "      <td>-0.062373</td>\n",
       "    </tr>\n",
       "    <tr>\n",
       "      <th>2019-01-01</th>\n",
       "      <td>Republican</td>\n",
       "      <td>0.288781</td>\n",
       "    </tr>\n",
       "    <tr>\n",
       "      <th>2020-01-01</th>\n",
       "      <td>Republican</td>\n",
       "      <td>0.082508</td>\n",
       "    </tr>\n",
       "  </tbody>\n",
       "</table>\n",
       "</div>"
      ],
      "text/plain": [
       "                 Party       ret\n",
       "2009-01-01    Democrat  0.234542\n",
       "2010-01-01    Democrat  0.127827\n",
       "2011-01-01    Democrat -0.000032\n",
       "2012-01-01    Democrat  0.134057\n",
       "2013-01-01    Democrat  0.296012\n",
       "2014-01-01    Democrat  0.113906\n",
       "2015-01-01    Democrat -0.007266\n",
       "2016-01-01    Democrat  0.095350\n",
       "2017-01-01  Republican  0.194200\n",
       "2018-01-01  Republican -0.062373\n",
       "2019-01-01  Republican  0.288781\n",
       "2020-01-01  Republican  0.082508"
      ]
     },
     "execution_count": 423,
     "metadata": {},
     "output_type": "execute_result"
    }
   ],
   "source": [
    "party_sp.tail(12)"
   ]
  },
  {
   "cell_type": "code",
   "execution_count": 424,
   "metadata": {},
   "outputs": [],
   "source": [
    "def portf(df, party, ret):\n",
    "    portf = []\n",
    "    for i in df.index:\n",
    "        if df.loc[i, 'Party'] == party:\n",
    "            portf.append(df.loc[i, ret]) \n",
    "        else:\n",
    "            portf.append(0.)\n",
    "    return portf"
   ]
  },
  {
   "cell_type": "code",
   "execution_count": 425,
   "metadata": {},
   "outputs": [],
   "source": [
    "party_sp['rep_ret'] = portf(party_sp, 'Republican', 'ret')\n",
    "party_sp['dem_ret'] = portf(party_sp, 'Democrat', 'ret')"
   ]
  },
  {
   "cell_type": "code",
   "execution_count": 427,
   "metadata": {},
   "outputs": [
    {
     "name": "stdout",
     "output_type": "stream",
     "text": [
      "Democrats mean yearly return: 0.05\n",
      "Republicans: mean yearly return: 0.02\n",
      "Sharpe Democrats: 0.41\n",
      "Sharpe Republicans: 0.16\n",
      "Sortino Democrats: 0.54\n",
      "Sortino Republicans: 0.18\n"
     ]
    }
   ],
   "source": [
    "print('Democrats mean yearly return:', np.round(party_sp['dem_ret'].mean(), 2)) #party_sp['dem_ret'].std(), party_sp.loc[party_sp['dem_ret'] < 0, 'dem_ret'].std())\n",
    "print('Republicans: mean yearly return:', np.round(party_sp['rep_ret'].mean(), 2)) #party_sp['rep_ret'].std(), party_sp.loc[party_sp['rep_ret'] < 0, 'rep_ret'].std())\n",
    "# #print('\\n')\n",
    "print('Sharpe Democrats:', np.round(party_sp['dem_ret'].mean()/party_sp['dem_ret'].std(), 2))\n",
    "print('Sharpe Republicans:', np.round(party_sp['rep_ret'].mean()/party_sp['rep_ret'].std(), 2))\n",
    "#print('\\n')\n",
    "print('Sortino Democrats:', np.round(party_sp['dem_ret'].mean()/party_sp.loc[party_sp['dem_ret'] < 0, 'dem_ret'].std(), 2))\n",
    "print('Sortino Republicans:', np.round(party_sp['rep_ret'].mean()/party_sp.loc[party_sp['rep_ret'] < 0, 'rep_ret'].std(), 2))"
   ]
  },
  {
   "cell_type": "markdown",
   "metadata": {},
   "source": [
    "Historically, Democrats drive `S&P500` better than Republicans both in terms of higher return and lower risk. **Sortino for Democrats is 3 times higher**. \n",
    "This advantage transforms into equity:"
   ]
  },
  {
   "cell_type": "code",
   "execution_count": 428,
   "metadata": {},
   "outputs": [],
   "source": [
    "party_sp['rep_portf'] = (1. + party_sp['rep_ret']).cumprod()\n",
    "party_sp['dem_portf'] = (1. + party_sp['dem_ret']).cumprod()\n",
    "party_sp['S&P500'] = (1. + party_sp['ret']).cumprod()"
   ]
  },
  {
   "cell_type": "code",
   "execution_count": 429,
   "metadata": {},
   "outputs": [
    {
     "data": {
      "text/plain": [
       "<matplotlib.legend.Legend at 0x256d80ad508>"
      ]
     },
     "execution_count": 429,
     "metadata": {},
     "output_type": "execute_result"
    },
    {
     "data": {
      "image/png": "[encoded data removed]",
      "text/plain": [
       "<Figure size 576x432 with 1 Axes>"
      ]
     },
     "metadata": {},
     "output_type": "display_data"
    }
   ],
   "source": [
    "fig = plt.figure(figsize=(8, 6))\n",
    "plt.xlabel('Year')\n",
    "plt.ylabel('Return, $1 invested')\n",
    "plt.title('S&P500: Long on party portfolio, relative grouth')\n",
    "plt.plot(party_sp['dem_portf'], 'b', label='Democrats')\n",
    "plt.plot(party_sp['rep_portf'], 'r', label='Republicans')\n",
    "#plt.plot(party_sp['S&P500'], 'g', label='S&P500')\n",
    "plt.legend()"
   ]
  },
  {
   "cell_type": "code",
   "execution_count": 432,
   "metadata": {},
   "outputs": [
    {
     "data": {
      "text/html": [
       "<div>\n",
       "<style scoped>\n",
       "    .dataframe tbody tr th:only-of-type {\n",
       "        vertical-align: middle;\n",
       "    }\n",
       "\n",
       "    .dataframe tbody tr th {\n",
       "        vertical-align: top;\n",
       "    }\n",
       "\n",
       "    .dataframe thead th {\n",
       "        text-align: right;\n",
       "    }\n",
       "</style>\n",
       "<table border=\"1\" class=\"dataframe\">\n",
       "  <thead>\n",
       "    <tr style=\"text-align: right;\">\n",
       "      <th></th>\n",
       "      <th>rep_portf</th>\n",
       "      <th>dem_portf</th>\n",
       "    </tr>\n",
       "  </thead>\n",
       "  <tbody>\n",
       "    <tr>\n",
       "      <th>2020-01-01</th>\n",
       "      <td>3.041294</td>\n",
       "      <td>65.116278</td>\n",
       "    </tr>\n",
       "  </tbody>\n",
       "</table>\n",
       "</div>"
      ],
      "text/plain": [
       "            rep_portf  dem_portf\n",
       "2020-01-01   3.041294  65.116278"
      ]
     },
     "execution_count": 432,
     "metadata": {},
     "output_type": "execute_result"
    }
   ],
   "source": [
    "party_sp[['rep_portf', 'dem_portf']].tail(1)"
   ]
  },
  {
   "cell_type": "code",
   "execution_count": 434,
   "metadata": {},
   "outputs": [
    {
     "name": "stdout",
     "output_type": "stream",
     "text": [
      "Stocks-cash Democrats/Republicans outperformance: 21.41\n"
     ]
    }
   ],
   "source": [
    "print('Stocks-cash Democrats/Republicans outperformance:', np.round((party_sp.loc[:, 'dem_portf'] /  party_sp.loc[:, 'rep_portf'])[-1], 2))"
   ]
  },
  {
   "cell_type": "markdown",
   "metadata": {},
   "source": [
    "Starting from 1928, investing in Republicans and keep cash for Democrats would turn 1 dollar to 3.04.     \n",
    "In turn, investing in Democrats and keep cash for Republicans would turn 1 dollar to 65.11, that is **21.4 times better**."
   ]
  },
  {
   "cell_type": "markdown",
   "metadata": {},
   "source": [
    "### Reaganomics Stocks and Cash Party Timing strategy\n",
    "One could argue that starting 1928 was not favorable for Republicans. Indeed, it was just before the Great Depression. Asymmetry in upside and downside returns did a bad thing for the Republican portfolio.\n",
    "Asymmetric returns mean that after 25% drawdown, one needs 50% return just to get breakeven. After 50% drawdown, one needs 100% return to get breakeven. \n",
    "That’s why estimating strategies in terms of risk-adjusted return is very important. \n",
    "100% return with 50% drawdown is worse than 50% return with 10% drawdown. Having low downside risk, you can use leverage. For example, with 2x leverage, you’ll have the same 100% return with the 20% drawdown, and your account will recover much faster."
   ]
  },
  {
   "cell_type": "code",
   "execution_count": 435,
   "metadata": {},
   "outputs": [
    {
     "data": {
      "text/plain": [
       "Timestamp('1984-01-01 00:00:00')"
      ]
     },
     "execution_count": 435,
     "metadata": {},
     "output_type": "execute_result"
    }
   ],
   "source": [
    "party_sp[(party_sp['rep_portf'] > 1) & (party_sp.index > '1930-01-01')].index[1]"
   ]
  },
  {
   "cell_type": "markdown",
   "metadata": {},
   "source": [
    "The Republican porfolio went out from the drowdown in 1984 only.  \n",
    "Lets start from 1981 Reagonomics."
   ]
  },
  {
   "cell_type": "code",
   "execution_count": 437,
   "metadata": {},
   "outputs": [
    {
     "data": {
      "text/html": [
       "<div>\n",
       "<style scoped>\n",
       "    .dataframe tbody tr th:only-of-type {\n",
       "        vertical-align: middle;\n",
       "    }\n",
       "\n",
       "    .dataframe tbody tr th {\n",
       "        vertical-align: top;\n",
       "    }\n",
       "\n",
       "    .dataframe thead th {\n",
       "        text-align: right;\n",
       "    }\n",
       "</style>\n",
       "<table border=\"1\" class=\"dataframe\">\n",
       "  <thead>\n",
       "    <tr style=\"text-align: right;\">\n",
       "      <th></th>\n",
       "      <th>rep_portf</th>\n",
       "      <th>dem_portf</th>\n",
       "    </tr>\n",
       "  </thead>\n",
       "  <tbody>\n",
       "    <tr>\n",
       "      <th>2020-01-01</th>\n",
       "      <td>3.429929</td>\n",
       "      <td>7.510722</td>\n",
       "    </tr>\n",
       "  </tbody>\n",
       "</table>\n",
       "</div>"
      ],
      "text/plain": [
       "            rep_portf  dem_portf\n",
       "2020-01-01   3.429929   7.510722"
      ]
     },
     "execution_count": 437,
     "metadata": {},
     "output_type": "execute_result"
    }
   ],
   "source": [
    "party_sp_81 = party_sp.copy()['1981-01-01':]\n",
    "party_sp_81[['rep_portf', 'dem_portf', 'S&P500']] = (1. + party_sp_81[['rep_ret', 'dem_ret', 'ret']]).cumprod()\n",
    "party_sp_81[['rep_portf', 'dem_portf']].tail(1)"
   ]
  },
  {
   "cell_type": "code",
   "execution_count": 439,
   "metadata": {},
   "outputs": [
    {
     "data": {
      "text/plain": [
       "<matplotlib.legend.Legend at 0x256d812a188>"
      ]
     },
     "execution_count": 439,
     "metadata": {},
     "output_type": "execute_result"
    },
    {
     "data": {
      "image/png": "[encoded data removed]",
      "text/plain": [
       "<Figure size 576x432 with 1 Axes>"
      ]
     },
     "metadata": {},
     "output_type": "display_data"
    }
   ],
   "source": [
    "fig = plt.figure(figsize=(8, 6))\n",
    "plt.xlabel('Year')\n",
    "plt.ylabel('Return, $1 invested')\n",
    "plt.title('S&P500: Long on party portfolio, started from Reagan, relative grouth')\n",
    "plt.plot(party_sp_81['dem_portf'], 'b', label='Democrats')\n",
    "plt.plot(party_sp_81['rep_portf'], 'r', label='Republicans')\n",
    "#plt.plot(party_sp_81['S&P500'], 'g', label='S&P500')\n",
    "plt.legend()"
   ]
  },
  {
   "cell_type": "code",
   "execution_count": 438,
   "metadata": {},
   "outputs": [
    {
     "name": "stdout",
     "output_type": "stream",
     "text": [
      "Stocks/cash Reagonomics Democrats outperformance: 2.19\n"
     ]
    }
   ],
   "source": [
    "print('Stocks/cash Reagonomics Democrats outperformance:', np.round((party_sp_81.loc[:, 'dem_portf'] /  party_sp_81.loc[:, 'rep_portf'])[-1], 2))"
   ]
  },
  {
   "cell_type": "markdown",
   "metadata": {},
   "source": [
    "Starting from favorable for Republicans 1981, investing in Republicans and keeping cash for Democrats would turn 1 dollar to 3.43. \n",
    "In turn, investing in Democrats and keeping cash for Republicans would turn 1 dollar to 7.51.\n",
    "**Reaganomics Democratic portfolio is still 2.19 times better**."
   ]
  },
  {
   "cell_type": "markdown",
   "metadata": {},
   "source": [
    "### Treasury Bonds and Cash Party Timing Strategy\n",
    "For the portfolio of T-Bonds yield, I backtested the following investment strategies:\n",
    "* Republican portfolio: Long T-Bonds on Republican presidents, cash on Democratic presidents.\n",
    "* Democratic portfolio: Long T-Bonds Democratic presidents, cash on Republican presidents.   \n",
    "\n",
    "I downloaded Treasury Bonds yield `^TYNX` historical data (available from 1978), sampled it yearly and divided by 100, as it is quoted in percents."
   ]
  },
  {
   "cell_type": "code",
   "execution_count": 444,
   "metadata": {},
   "outputs": [
    {
     "name": "stdout",
     "output_type": "stream",
     "text": [
      "[*********************100%***********************]  1 of 1 completed\n"
     ]
    }
   ],
   "source": [
    "#Treasury Yield 30 Years (^TYNX)\n",
    "tb = yf.download(tickers = '^TYX', period='max', auto_adjust = True)['Close']/100\n",
    "tb_y = tb.asfreq('AS', how='start', method='ffill').shift(-1).rename('tb')\n",
    "tb_y['2020-01-01'] = tb['2020-09-01']/100\n",
    "party_sp_tb = pd.concat([parties, sp_y, tb_y], axis=1).dropna()#['1981-01-01':]"
   ]
  },
  {
   "cell_type": "code",
   "execution_count": 454,
   "metadata": {},
   "outputs": [
    {
     "data": {
      "text/plain": [
       "Date\n",
       "2020-09-28    0.01423\n",
       "2020-09-29    0.01406\n",
       "2020-09-30    0.01451\n",
       "2020-10-01    0.01454\n",
       "2020-10-02    0.01481\n",
       "Name: Close, dtype: float64"
      ]
     },
     "execution_count": 454,
     "metadata": {},
     "output_type": "execute_result"
    }
   ],
   "source": [
    "tb.tail()"
   ]
  },
  {
   "cell_type": "code",
   "execution_count": 445,
   "metadata": {},
   "outputs": [],
   "source": [
    "party_sp_tb['rep_tb'] = portf(party_sp_tb, 'Republican', 'tb')\n",
    "party_sp_tb['dem_tb'] = portf(party_sp_tb, 'Democrat', 'tb')\n",
    "party_sp_tb['rep_tb_portf'] = (1. + party_sp_tb['rep_tb']).cumprod()\n",
    "party_sp_tb['dem_tb_portf'] = (1. + party_sp_tb['dem_tb']).cumprod()\n",
    "party_sp_tb['tb_portf'] = (1 + party_sp_tb['tb']).cumprod()"
   ]
  },
  {
   "cell_type": "code",
   "execution_count": 446,
   "metadata": {},
   "outputs": [
    {
     "data": {
      "text/plain": [
       "<matplotlib.legend.Legend at 0x256d864ffc8>"
      ]
     },
     "execution_count": 446,
     "metadata": {},
     "output_type": "execute_result"
    },
    {
     "data": {
      "image/png": "[encoded data removed]",
      "text/plain": [
       "<Figure size 576x432 with 1 Axes>"
      ]
     },
     "metadata": {},
     "output_type": "display_data"
    }
   ],
   "source": [
    "fig = plt.figure(figsize=(8, 6))\n",
    "plt.xlabel('Year')\n",
    "plt.ylabel('Return, $1 invested')\n",
    "plt.title('T-Bond: Long on party portfolio, relative grouth')\n",
    "plt.plot(party_sp_tb['dem_tb_portf'], 'b', label='Democrats')\n",
    "plt.plot(party_sp_tb['rep_tb_portf'], 'r', label='Republicans')\n",
    "#plt.plot(party_sp_tb['tb_portf'], 'g', label='T-Bonds')\n",
    "plt.legend()"
   ]
  },
  {
   "cell_type": "markdown",
   "metadata": {},
   "source": [
    "T-Bond portfolio for Republicans performed better. That means, T_Bonds yield is historically higher when Republicans rule."
   ]
  },
  {
   "cell_type": "markdown",
   "metadata": {},
   "source": [
    "### Stocks and T-Bonds Party Timing strategy\n",
    "For the portfolio of the stocks (`S&P500`) and `T-Bonds`, I backtested the following investment strategies:\n",
    "\n",
    "* Republican strategy: Stocks for Republican presidents, T-Bonds for Democratic presidents.\n",
    "* Democratic strategy: Stocks for Democratic presidents, T-Bonds for Republican presidents."
   ]
  },
  {
   "cell_type": "code",
   "execution_count": 461,
   "metadata": {},
   "outputs": [],
   "source": [
    "def portf2(df, party):\n",
    "    portf = []\n",
    "    for i in df.index:\n",
    "        if df.loc[i, 'Party'] == party:\n",
    "            portf.append(df.loc[i, 'ret']) \n",
    "        else:\n",
    "            portf.append(df.loc[i, 'tb'])\n",
    "    return portf"
   ]
  },
  {
   "cell_type": "code",
   "execution_count": 452,
   "metadata": {},
   "outputs": [
    {
     "data": {
      "text/html": [
       "<div>\n",
       "<style scoped>\n",
       "    .dataframe tbody tr th:only-of-type {\n",
       "        vertical-align: middle;\n",
       "    }\n",
       "\n",
       "    .dataframe tbody tr th {\n",
       "        vertical-align: top;\n",
       "    }\n",
       "\n",
       "    .dataframe thead th {\n",
       "        text-align: right;\n",
       "    }\n",
       "</style>\n",
       "<table border=\"1\" class=\"dataframe\">\n",
       "  <thead>\n",
       "    <tr style=\"text-align: right;\">\n",
       "      <th></th>\n",
       "      <th>rep_portf</th>\n",
       "      <th>dem_portf</th>\n",
       "      <th>S&amp;P500</th>\n",
       "    </tr>\n",
       "  </thead>\n",
       "  <tbody>\n",
       "    <tr>\n",
       "      <th>2019-01-01</th>\n",
       "      <td>9.046164</td>\n",
       "      <td>48.900051</td>\n",
       "      <td>33.972451</td>\n",
       "    </tr>\n",
       "  </tbody>\n",
       "</table>\n",
       "</div>"
      ],
      "text/plain": [
       "            rep_portf  dem_portf     S&P500\n",
       "2019-01-01   9.046164  48.900051  33.972451"
      ]
     },
     "execution_count": 452,
     "metadata": {},
     "output_type": "execute_result"
    }
   ],
   "source": [
    "party_sp_tb['rep_ret'] = portf2(party_sp_tb, 'Republican', 'ret')\n",
    "party_sp_tb['dem_ret'] = portf2(party_sp_tb, 'Democrat', 'ret')\n",
    "party_sp_tb['rep_portf'] = (1. + party_sp_tb['rep_ret']).cumprod()\n",
    "party_sp_tb['dem_portf'] = (1. + party_sp_tb['dem_ret']).cumprod()\n",
    "party_sp_tb['S&P500'] = (1. + party_sp_tb['ret']).cumprod()\n",
    "party_sp_tb[['rep_portf', 'dem_portf', 'S&P500']].tail(1)"
   ]
  },
  {
   "cell_type": "code",
   "execution_count": 458,
   "metadata": {},
   "outputs": [
    {
     "name": "stdout",
     "output_type": "stream",
     "text": [
      "Stocks&bonds Democrats/Republicans outperformance: 5.41\n"
     ]
    }
   ],
   "source": [
    "print('Stocks&bonds Democrats/Republicans outperformance:', np.round(party_sp_tb.loc[:, 'dem_portf'][-1] /  party_sp_tb.loc[:, 'rep_portf'][-1], 2))"
   ]
  },
  {
   "cell_type": "code",
   "execution_count": 459,
   "metadata": {},
   "outputs": [
    {
     "name": "stdout",
     "output_type": "stream",
     "text": [
      "Stocks&bonds Democrats/S&P500 outperformance: 1.44\n"
     ]
    }
   ],
   "source": [
    "print('Stocks&bonds Democrats/S&P500 outperformance:', np.round(party_sp_tb.loc[:, 'dem_portf'][-1] /  party_sp_tb.loc[:, 'S&P500'][-1], 2))"
   ]
  },
  {
   "cell_type": "code",
   "execution_count": 457,
   "metadata": {},
   "outputs": [
    {
     "name": "stdout",
     "output_type": "stream",
     "text": [
      "Stocks&bonds Republicans/T-Bonds underformance: 0.69\n"
     ]
    }
   ],
   "source": [
    "print('Stocks&bonds Republicans/T-Bonds underformance:', np.round(party_sp_tb.loc[:, 'rep_portf'][-1] /  party_sp_tb.loc[:, 'tb_portf'][-1], 2))"
   ]
  },
  {
   "cell_type": "code",
   "execution_count": 460,
   "metadata": {},
   "outputs": [
    {
     "data": {
      "text/plain": [
       "<matplotlib.legend.Legend at 0x256d81e0ac8>"
      ]
     },
     "execution_count": 460,
     "metadata": {},
     "output_type": "execute_result"
    },
    {
     "data": {
      "image/png": "[encoded data removed]",
      "text/plain": [
       "<Figure size 576x432 with 1 Axes>"
      ]
     },
     "metadata": {},
     "output_type": "display_data"
    }
   ],
   "source": [
    "fig = plt.figure(figsize=(8, 6))\n",
    "plt.xlabel('Year')\n",
    "plt.ylabel('Return, $1 invested')\n",
    "plt.title('S&P500 vs T_Bonds Party portfolios, started from 1978, relative grouth')\n",
    "plt.plot(party_sp_tb['dem_portf'], 'b', label='Democrats')\n",
    "plt.plot(party_sp_tb['rep_portf'], 'r', label='Republicans')\n",
    "plt.plot(party_sp_tb['S&P500'], 'g', label='S&P500')\n",
    "plt.plot(party_sp_tb['tb_portf'], 'm', label='T-Bonds')\n",
    "plt.legend()"
   ]
  },
  {
   "cell_type": "markdown",
   "metadata": {},
   "source": [
    "Starting from 1978, investing in stocks for Republican presidents and T-Bonds for Democratic presidents would turn 1 dollar to 9.05. \n",
    "In contrast, investing in stocks for Democrats and T-Bonds for Republicans would turn 1 dollar to 48.90.\n",
    "**The Democratic stocks&bonds strategy is 5.09 times better than Republican strategy**. The Democratic stocks&bonds strategy **44% outperforms the benchmark `S&P500`**, \n",
    "and **the risky Republican stocks&bonds strategy 31% underperforms risk-free T-Bonds**."
   ]
  },
  {
   "cell_type": "code",
   "execution_count": 464,
   "metadata": {},
   "outputs": [
    {
     "name": "stdout",
     "output_type": "stream",
     "text": [
      "Stocks Democrats, bonds Republicans strategy:\n",
      "mean yearly return: 0.1\n",
      "Sharpe: 1.07\n",
      "Sortino: 2.13\n"
     ]
    }
   ],
   "source": [
    "print('Stocks Democrats, bonds Republicans strategy:')\n",
    "print('mean yearly return:', np.round(party_sp_tb['dem_ret'].mean(), 2)) #, party_sp_tb['dem_ret'].std(), party_sp_tb.loc[party_sp_tb['dem_ret'] < 0, 'dem_ret'].std())\n",
    "print('Sharpe:', np.round(party_sp_tb['dem_ret'].mean()/party_sp_tb['dem_ret'].std(), 2))\n",
    "print('Sortino:', np.round(party_sp_tb['dem_ret'].mean()/party_sp_tb.loc[party_sp['dem_ret'] < 0, 'dem_ret'].std(), 2))"
   ]
  },
  {
   "cell_type": "markdown",
   "metadata": {},
   "source": [
    "The Sharpe and Sortino ratios are pretty worthy for such a simple strategy.\n",
    "\n",
    "Now we see why stock and bonds Democratic portfolio outperforms the opposite Republican portfolio so dramatically:   \n",
    "* Democrats gain both from better stock market performance when they rule, and higher bonds yield when Republicans rule.   \n",
    "* Republicans accumulate stock market downtrends during recessions, and have lower bonds yield when Democrats recover the economy after them.\n",
    "\n",
    "**The winning investment strategy**\n",
    "* If Biden wins, invest in `S&P500`.\n",
    "* If Trump wins, invest in `T_Bonds`.   \n",
    "\n",
    "**Disclaimer**: Backtesting results do not guarantee the future performance.\n",
    "    \n",
    "If you think this time is different, read [the book with the same title](https://www.amazon.com/This-Time-Different-Centuries-Financial/dp/0691152640/ref=sr_1_1?crid=EJUNG3O57RFU&dchild=1&keywords=this+time+is+different&qid=1601654601&sprefix=this+time+is%2Caps%2C144&sr=8-1).\n",
    "\n",
    "As for tax influence on the stock market, I don't have data to calculate tax adjusted returns. Personally, I prefer to pay taxes from high income, \n",
    "rather than pay smaller taxes from low income, or position myself a billionaire and pay \\\\$750 taxes, as Trump.    \n",
    "By the way, Yann LeCun (Chief AI Scientist at Facebook) [twitted](https://twitter.com/ylecun/status/1310996945045946370): \n",
    "\"I nominate Donald J. Trump to the Nobel Prize in Economics for figuring out how to spend money like a billionaire while having a negative net worth of minus a few billions. \n",
    "I'll nominate him again next year for applying the same method to the US economy\"."
   ]
  },
  {
   "cell_type": "markdown",
   "metadata": {},
   "source": [
    "#### P. S. \n",
    "I found a study that confirmed my tests:   \n",
    "#### [Presidents and the US Economy: An Econometric Exploration](https://pubs.aeaweb.org/doi/pdfplus/10.1257/aer.20140913), \n",
    "By Alan S. Blinder and Mark W. Watson, Prinston University, 2016.   \n",
    "\n",
    "The US economy has performed better when the president of the\n",
    "United States is a Democrat rather than a Republican, almost regardless of how one measures performance. For many measures, including real GDP growth (our focus), the performance gap is large and\n",
    "significant. This paper asks why. The answer is not found in technical\n",
    "time series matters nor in systematically more expansionary monetary or fiscal policy under Democrats. Rather, it appears that the\n",
    "Democratic edge stems mainly from more benign oil shocks, superior total factor productivity (TFP) performance, a more favorable\n",
    "international environment, and perhaps more optimistic consumer\n",
    "expectations about the near-term future.    "
   ]
  },
  {
   "cell_type": "markdown",
   "metadata": {},
   "source": [
    "#### P. P. S. Long Stocks for Democrats, Short Stocks for Republicans\n",
    "If the Republicans collects recessions, is it profitable to short Republicans then? I do not recommend Shorting stocks as an investment, of course. \n",
    "It was just to check the box.   \n",
    "I backtested the following strategy:\n",
    "* Long stocks for Democratic presidents, short stocks for Republican presidents."
   ]
  },
  {
   "cell_type": "code",
   "execution_count": 468,
   "metadata": {},
   "outputs": [],
   "source": [
    "party_sp['long_dem_short_rep_portf'] = (1. + party_sp['dem_ret'] - party_sp['rep_ret']).cumprod()\n",
    "#party_sp['long_dem_short_rep_portf'] = (1. + party_sp_tb['dem_ret']['1978-01-01':] - party_sp['rep_ret']['1978-01-01':]).cumprod()"
   ]
  },
  {
   "cell_type": "code",
   "execution_count": 469,
   "metadata": {},
   "outputs": [
    {
     "data": {
      "text/plain": [
       "<matplotlib.legend.Legend at 0x256d8236cc8>"
      ]
     },
     "execution_count": 469,
     "metadata": {},
     "output_type": "execute_result"
    },
    {
     "data": {
      "image/png": "[encoded data removed]",
      "text/plain": [
       "<Figure size 576x432 with 1 Axes>"
      ]
     },
     "metadata": {},
     "output_type": "display_data"
    }
   ],
   "source": [
    "fig = plt.figure(figsize=(8, 6))\n",
    "plt.xlabel('Year')\n",
    "plt.ylabel('Return, $1 invested')\n",
    "plt.title('Long Stocks for Democrats, Long T_Bonds and Short Stocks for Republican')\n",
    "plt.plot(party_sp['long_dem_short_rep_portf'], 'b', label='Long Dems short Reps')\n",
    "#plt.plot(party_sp_tb['rep_portf']['1978-01-01':], 'r', label='Republicans')\n",
    "plt.plot(party_sp['rep_portf'], 'r', label='Republicans')\n",
    "plt.legend()"
   ]
  },
  {
   "cell_type": "markdown",
   "metadata": {},
   "source": [
    "Long for Democrats and Short for republicans strategy is still commparable to long for Republicans and cash for Democrats."
   ]
  },
  {
   "cell_type": "code",
   "execution_count": null,
   "metadata": {},
   "outputs": [],
   "source": [
    "[The reproducible code](github)"
   ]
  }
 ],
 "metadata": {
  "kernelspec": {
   "display_name": "Python 3",
   "language": "python",
   "name": "python3"
  },
  "language_info": {
   "codemirror_mode": {
    "name": "ipython",
    "version": 3
   },
   "file_extension": ".py",
   "mimetype": "text/x-python",
   "name": "python",
   "nbconvert_exporter": "python",
   "pygments_lexer": "ipython3",
   "version": "3.7.7"
  }
 },
 "nbformat": 4,
 "nbformat_minor": 4
}
